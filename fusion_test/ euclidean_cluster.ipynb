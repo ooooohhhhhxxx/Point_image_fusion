{
 "cells": [
  {
   "cell_type": "code",
   "execution_count": null,
   "metadata": {},
   "outputs": [],
   "source": [
    "import open3d as o3d\n",
    "\n",
    "\n",
    "def euclidean_cluster(cloud, tolerance=0.2, min_cluster_size=100, max_cluster_size=1000):\n",
    "    \"\"\"\n",
    "    欧式聚类\n",
    "    :param cloud:输入点云\n",
    "    :param tolerance: 设置近邻搜索的搜索半径（也即两个不同聚类团点之间的最小欧氏距离）\n",
    "    :param min_cluster_size:设置一个聚类需要的最少的点数目\n",
    "    :param max_cluster_size:设置一个聚类需要的最大点数目\n",
    "    :return:聚类个数\n",
    "    \"\"\"\n",
    "\n",
    "    kdtree = o3d.geometry.KDTreeFlann(cloud)  # 对点云建立kd树索引\n",
    "\n",
    "    num_points = len(cloud.points)\n",
    "    processed = [-1] * num_points  # 定义所需变量\n",
    "    clusters = []  # 初始化聚类\n",
    "    # 遍历各点\n",
    "    for idx in range(num_points):\n",
    "        if processed[idx] == 1:  # 如果该点已经处理则跳过\n",
    "            continue\n",
    "        seed_queue = []  # 定义一个种子队列\n",
    "        sq_idx = 0\n",
    "        seed_queue.append(idx)  # 加入一个种子点\n",
    "        processed[idx] = 1\n",
    "\n",
    "        while sq_idx < len(seed_queue):\n",
    "\n",
    "            k, nn_indices, _ = kdtree.search_radius_vector_3d(cloud.points[seed_queue[sq_idx]], tolerance)\n",
    "\n",
    "            if k == 1:  # k=1表示该种子点没有近邻点\n",
    "                sq_idx += 1\n",
    "                continue\n",
    "            for j in range(k):\n",
    "\n",
    "                if nn_indices[j] == num_points or processed[nn_indices[j]] == 1:\n",
    "                    continue  # 种子点的近邻点中如果已经处理就跳出此次循环继续\n",
    "                seed_queue.append(nn_indices[j])\n",
    "                processed[nn_indices[j]] = 1\n",
    "\n",
    "            sq_idx += 1\n",
    "\n",
    "        if max_cluster_size > len(seed_queue) > min_cluster_size:\n",
    "            clusters.append(seed_queue)\n",
    "\n",
    "    return clusters\n",
    "\n",
    "\n"
   ]
  },
  {
   "cell_type": "code",
   "execution_count": null,
   "metadata": {},
   "outputs": [],
   "source": [
    "if __name__ == '__main__':\n",
    "    # --------------------------加载点云数据------------------------------\n",
    "    pcd = o3d.io.read_point_cloud(\"data//test.pcd\")\n",
    "    # ---------------------------欧式聚类--------------------------------\n",
    "    ec = euclidean_cluster(pcd, tolerance=0.2, min_cluster_size=10, max_cluster_size=100000)\n",
    "    # -------------------------聚类结果分类保存---------------------------\n",
    "\n",
    "    for i in range(len(ec)):\n",
    "        ind = ec[i]\n",
    "        clusters_cloud = pcd.select_by_index(ind)\n",
    "        file_name = \"euclidean_cluster\" + str(i + 1) + \".pcd\"\n",
    "        o3d.io.write_point_cloud(file_name, clusters_cloud)"
   ]
  }
 ],
 "metadata": {
  "kernelspec": {
   "display_name": "Python 3.8.13 ('pi')",
   "language": "python",
   "name": "python3"
  },
  "language_info": {
   "name": "python",
   "version": "3.8.13"
  },
  "orig_nbformat": 4,
  "vscode": {
   "interpreter": {
    "hash": "997104a64ceac83b9dc5281013629028991657c8bd5601b5b52389e337e01cec"
   }
  }
 },
 "nbformat": 4,
 "nbformat_minor": 2
}
