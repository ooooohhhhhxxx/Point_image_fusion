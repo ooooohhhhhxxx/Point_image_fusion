{
 "cells": [
  {
   "cell_type": "code",
   "execution_count": 2,
   "metadata": {},
   "outputs": [],
   "source": [
    "import open3d as o3d\n",
    "import numpy as np\n",
    "import os"
   ]
  },
  {
   "cell_type": "code",
   "execution_count": 3,
   "metadata": {},
   "outputs": [],
   "source": [
    "def read_point_cloud_bin(bin_path):\n",
    "    \"\"\"\n",
    "    Read point cloud in bin format\n",
    "\n",
    "    Parameters\n",
    "    ----------\n",
    "    bin_path: str\n",
    "        Input path of Oxford point cloud bin\n",
    "\n",
    "    Returns\n",
    "    ----------\n",
    "\n",
    "    \"\"\"\n",
    "    data = np.fromfile(bin_path, dtype=np.float32)\n",
    "\n",
    "    # format:\n",
    "    N, D = data.shape[0]// 6, 6\n",
    "    point_cloud_with_normal = np.reshape(data, (N, D))\n",
    "\n",
    "    point_cloud = o3d.geometry.PointCloud()\n",
    "    point_cloud.points = o3d.utility.Vector3dVector(point_cloud_with_normal[:, 0:3])\n",
    "    point_cloud.normals = o3d.utility.Vector3dVector(point_cloud_with_normal[:, 3:6])\n",
    "\n",
    "    return point_cloud\n"
   ]
  },
  {
   "cell_type": "code",
   "execution_count": 30,
   "metadata": {},
   "outputs": [],
   "source": [
    "def main(bin_path,pcd_path):\n",
    "    file_list = os.listdir(bin_path)\n",
    "    for onefile in file_list:\n",
    "        file_path = bin_path + onefile\n",
    "        filename,_ = file_path.split(\".\")\n",
    "        savepath = pcd_path + filename + '.pcd'\n",
    "        pc = read_point_cloud_bin(file_path)\n",
    "        o3d.io.write_point_cloud(savepath,pc)\n",
    "        print(filename,' done!')"
   ]
  },
  {
   "cell_type": "code",
   "execution_count": null,
   "metadata": {},
   "outputs": [],
   "source": [
    "bin_path = '/Users/jinxuanchen/Downloads/2011_09_26-5/2011_09_26_drive_0029_sync/velodyne_points/data/'\n",
    "pcd_path = '/Users/jinxuanchen/Files_Local/Point_image_fusion/fusion_test/pcd/split'\n",
    "main(bin_path,pcd_path)"
   ]
  },
  {
   "cell_type": "code",
   "execution_count": 5,
   "metadata": {},
   "outputs": [
    {
     "ename": "ValueError",
     "evalue": "cannot reshape array of size 480560 into shape (80093,6)",
     "output_type": "error",
     "traceback": [
      "\u001b[0;31m---------------------------------------------------------------------------\u001b[0m",
      "\u001b[0;31mValueError\u001b[0m                                Traceback (most recent call last)",
      "Cell \u001b[0;32mIn [5], line 2\u001b[0m\n\u001b[1;32m      1\u001b[0m path \u001b[39m=\u001b[39m \u001b[39m'\u001b[39m\u001b[39m/Users/jinxuanchen/Downloads/2011_09_26-5/2011_09_26_drive_0029_sync/velodyne_points/data/0000000320.bin\u001b[39m\u001b[39m'\u001b[39m\n\u001b[0;32m----> 2\u001b[0m pc \u001b[39m=\u001b[39m read_point_cloud_bin(path)\n",
      "Cell \u001b[0;32mIn [3], line 18\u001b[0m, in \u001b[0;36mread_point_cloud_bin\u001b[0;34m(bin_path)\u001b[0m\n\u001b[1;32m     16\u001b[0m \u001b[39m# format:\u001b[39;00m\n\u001b[1;32m     17\u001b[0m N, D \u001b[39m=\u001b[39m data\u001b[39m.\u001b[39mshape[\u001b[39m0\u001b[39m]\u001b[39m/\u001b[39m\u001b[39m/\u001b[39m \u001b[39m6\u001b[39m, \u001b[39m6\u001b[39m\n\u001b[0;32m---> 18\u001b[0m point_cloud_with_normal \u001b[39m=\u001b[39m np\u001b[39m.\u001b[39;49mreshape(data, (N, D))\n\u001b[1;32m     20\u001b[0m point_cloud \u001b[39m=\u001b[39m o3d\u001b[39m.\u001b[39mgeometry\u001b[39m.\u001b[39mPointCloud()\n\u001b[1;32m     21\u001b[0m point_cloud\u001b[39m.\u001b[39mpoints \u001b[39m=\u001b[39m o3d\u001b[39m.\u001b[39mutility\u001b[39m.\u001b[39mVector3dVector(point_cloud_with_normal[:, \u001b[39m0\u001b[39m:\u001b[39m3\u001b[39m])\n",
      "File \u001b[0;32m<__array_function__ internals>:180\u001b[0m, in \u001b[0;36mreshape\u001b[0;34m(*args, **kwargs)\u001b[0m\n",
      "File \u001b[0;32m~/opt/miniconda3/envs/pi/lib/python3.8/site-packages/numpy/core/fromnumeric.py:298\u001b[0m, in \u001b[0;36mreshape\u001b[0;34m(a, newshape, order)\u001b[0m\n\u001b[1;32m    198\u001b[0m \u001b[39m@array_function_dispatch\u001b[39m(_reshape_dispatcher)\n\u001b[1;32m    199\u001b[0m \u001b[39mdef\u001b[39;00m \u001b[39mreshape\u001b[39m(a, newshape, order\u001b[39m=\u001b[39m\u001b[39m'\u001b[39m\u001b[39mC\u001b[39m\u001b[39m'\u001b[39m):\n\u001b[1;32m    200\u001b[0m     \u001b[39m\"\"\"\u001b[39;00m\n\u001b[1;32m    201\u001b[0m \u001b[39m    Gives a new shape to an array without changing its data.\u001b[39;00m\n\u001b[1;32m    202\u001b[0m \n\u001b[0;32m   (...)\u001b[0m\n\u001b[1;32m    296\u001b[0m \u001b[39m           [5, 6]])\u001b[39;00m\n\u001b[1;32m    297\u001b[0m \u001b[39m    \"\"\"\u001b[39;00m\n\u001b[0;32m--> 298\u001b[0m     \u001b[39mreturn\u001b[39;00m _wrapfunc(a, \u001b[39m'\u001b[39;49m\u001b[39mreshape\u001b[39;49m\u001b[39m'\u001b[39;49m, newshape, order\u001b[39m=\u001b[39;49morder)\n",
      "File \u001b[0;32m~/opt/miniconda3/envs/pi/lib/python3.8/site-packages/numpy/core/fromnumeric.py:57\u001b[0m, in \u001b[0;36m_wrapfunc\u001b[0;34m(obj, method, *args, **kwds)\u001b[0m\n\u001b[1;32m     54\u001b[0m     \u001b[39mreturn\u001b[39;00m _wrapit(obj, method, \u001b[39m*\u001b[39margs, \u001b[39m*\u001b[39m\u001b[39m*\u001b[39mkwds)\n\u001b[1;32m     56\u001b[0m \u001b[39mtry\u001b[39;00m:\n\u001b[0;32m---> 57\u001b[0m     \u001b[39mreturn\u001b[39;00m bound(\u001b[39m*\u001b[39;49margs, \u001b[39m*\u001b[39;49m\u001b[39m*\u001b[39;49mkwds)\n\u001b[1;32m     58\u001b[0m \u001b[39mexcept\u001b[39;00m \u001b[39mTypeError\u001b[39;00m:\n\u001b[1;32m     59\u001b[0m     \u001b[39m# A TypeError occurs if the object does have such a method in its\u001b[39;00m\n\u001b[1;32m     60\u001b[0m     \u001b[39m# class, but its signature is not identical to that of NumPy's. This\u001b[39;00m\n\u001b[0;32m   (...)\u001b[0m\n\u001b[1;32m     64\u001b[0m     \u001b[39m# Call _wrapit from within the except clause to ensure a potential\u001b[39;00m\n\u001b[1;32m     65\u001b[0m     \u001b[39m# exception has a traceback chain.\u001b[39;00m\n\u001b[1;32m     66\u001b[0m     \u001b[39mreturn\u001b[39;00m _wrapit(obj, method, \u001b[39m*\u001b[39margs, \u001b[39m*\u001b[39m\u001b[39m*\u001b[39mkwds)\n",
      "\u001b[0;31mValueError\u001b[0m: cannot reshape array of size 480560 into shape (80093,6)"
     ]
    }
   ],
   "source": [
    "path = '/Users/jinxuanchen/Downloads/2011_09_26-5/2011_09_26_drive_0029_sync/velodyne_points/data/0000000320.bin'\n",
    "pc = read_point_cloud_bin(path)"
   ]
  },
  {
   "cell_type": "code",
   "execution_count": 27,
   "metadata": {},
   "outputs": [],
   "source": [
    "path = '/Users/jinxuanchen/Downloads/2011_09_26-5/2011_09_26_drive_0029_sync/velodyne_points/data/0000000004.bin'\n",
    "data = np.fromfile(path, dtype=np.float32)\n",
    "\n",
    "# format:\n",
    "N, D = data.shape[0]// 6, 6\n",
    "point_cloud_with_normal = np.reshape(data, (N, D))"
   ]
  },
  {
   "cell_type": "code",
   "execution_count": 29,
   "metadata": {},
   "outputs": [
    {
     "data": {
      "text/plain": [
       "482084"
      ]
     },
     "execution_count": 29,
     "metadata": {},
     "output_type": "execute_result"
    }
   ],
   "source": [
    "path = '/Users/jinxuanchen/Downloads/2011_09_26-5/2011_09_26_drive_0029_sync/velodyne_points/data/0000000001.bin'\n",
    "data = np.fromfile(path, dtype=np.float32)\n",
    "data.shape[0]"
   ]
  },
  {
   "cell_type": "code",
   "execution_count": 30,
   "metadata": {},
   "outputs": [],
   "source": [
    "bin_path = '/Users/jinxuanchen/Downloads/2011_09_26-5/2011_09_26_drive_0029_sync/velodyne_points/data/'\n",
    "pcd_path = '/Users/jinxuanchen/Files_Local/Point_image_fusion/fusion_test/pcd/split/'"
   ]
  },
  {
   "cell_type": "code",
   "execution_count": 31,
   "metadata": {},
   "outputs": [],
   "source": [
    "import struct\n",
    "def read_bin_velodyne(path):\n",
    "    pc_list = []\n",
    "    with open(path, 'rb') as f:\n",
    "        content = f.read()\n",
    "        pc_iter = struct.iter_unpack('ffff', content)\n",
    "        for idx, point in enumerate(pc_iter):\n",
    "            pc_list.append([point[0], point[1], point[2]])\n",
    "    return np.asarray(pc_list, dtype=np.float32)"
   ]
  },
  {
   "cell_type": "code",
   "execution_count": 35,
   "metadata": {},
   "outputs": [
    {
     "data": {
      "text/plain": [
       "std::vector<Eigen::Vector3d> with 121795 elements.\n",
       "Use numpy.asarray() to access data."
      ]
     },
     "execution_count": 35,
     "metadata": {},
     "output_type": "execute_result"
    }
   ],
   "source": [
    "files = os.listdir(bin_path)\n",
    "file_number = len(files)\n",
    "\n",
    "pcd = o3d.open3d.geometry.PointCloud()\n",
    "\n",
    "i =1\n",
    "\n",
    "path = os.path.join(bin_path, files[i])\n",
    "name,_ = files[i].split('.')\n",
    "savepath = pcd_path + name + '.pcd'\n",
    "example = read_bin_velodyne(path)\n",
    "# From numpy to Open3D\n",
    "pcd.points = o3d.open3d.utility.Vector3dVector(example)\n",
    "# o3d.io.write_point_cloud(savepath,pcd)\n",
    "# o3d.open3d.visualization.draw_geometries([pcd])\n",
    "pcd.points"
   ]
  }
 ],
 "metadata": {
  "kernelspec": {
   "display_name": "Python 3.8.13 ('pi')",
   "language": "python",
   "name": "python3"
  },
  "language_info": {
   "codemirror_mode": {
    "name": "ipython",
    "version": 3
   },
   "file_extension": ".py",
   "mimetype": "text/x-python",
   "name": "python",
   "nbconvert_exporter": "python",
   "pygments_lexer": "ipython3",
   "version": "3.8.13"
  },
  "orig_nbformat": 4,
  "vscode": {
   "interpreter": {
    "hash": "997104a64ceac83b9dc5281013629028991657c8bd5601b5b52389e337e01cec"
   }
  }
 },
 "nbformat": 4,
 "nbformat_minor": 2
}
