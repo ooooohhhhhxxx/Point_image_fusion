{
 "cells": [
  {
   "cell_type": "code",
   "execution_count": 32,
   "metadata": {},
   "outputs": [
    {
     "data": {
      "text/plain": [
       "59.56448192265086"
      ]
     },
     "execution_count": 32,
     "metadata": {},
     "output_type": "execute_result"
    }
   ],
   "source": [
    "#gps 中 yaw 航向 弧度转角度  东为0 逆时针为正\n",
    "import math\n",
    "x = 1.03959632679490\n",
    "r = math.degrees(x)\n",
    "r"
   ]
  },
  {
   "cell_type": "code",
   "execution_count": 66,
   "metadata": {},
   "outputs": [],
   "source": [
    "import open3d as o3d\n",
    "import numpy as np\n",
    "\n",
    "pcd = o3d.io.read_point_cloud('/Users/jinxuanchen/Files_Local/Point_image_fusion/kittidata/odometry/sequences/00/map_pcd_ds.pcd')\n",
    "R = pcd.get_rotation_matrix_from_xyz((0, 0, -1.03959632679490))"
   ]
  },
  {
   "cell_type": "code",
   "execution_count": 67,
   "metadata": {},
   "outputs": [
    {
     "data": {
      "text/plain": [
       "array([[ 0.50656835,  0.86219981,  0.        ],\n",
       "       [-0.86219981,  0.50656835,  0.        ],\n",
       "       [ 0.        ,  0.        ,  1.        ]])"
      ]
     },
     "execution_count": 67,
     "metadata": {},
     "output_type": "execute_result"
    }
   ],
   "source": [
    "R"
   ]
  },
  {
   "cell_type": "code",
   "execution_count": 68,
   "metadata": {},
   "outputs": [
    {
     "data": {
      "text/plain": [
       "(4, 4)"
      ]
     },
     "execution_count": 68,
     "metadata": {},
     "output_type": "execute_result"
    }
   ],
   "source": [
    "R1 = np.insert(R,3,values=0,axis=1)\n",
    "R1 = np.insert(R1,3,values=[0,0,0,1],axis=0)\n",
    "R1.shape"
   ]
  },
  {
   "cell_type": "code",
   "execution_count": 69,
   "metadata": {},
   "outputs": [
    {
     "data": {
      "text/plain": [
       "array([[ 9.43231888e+01, -3.91229820e+01, -6.22723389e+00,\n",
       "         3.91670000e-02],\n",
       "       [ 8.92993088e+01, -3.25923386e+01, -5.81851006e+00,\n",
       "         0.00000000e+00],\n",
       "       [ 4.03348274e+01, -2.86283140e-01, -6.30697584e+00,\n",
       "         0.00000000e+00],\n",
       "       ...,\n",
       "       [-9.09745178e+01, -1.84064007e+00,  3.76742300e-01,\n",
       "         0.00000000e+00],\n",
       "       [-9.08582153e+01, -2.19387269e+00,  3.90237540e-01,\n",
       "         0.00000000e+00],\n",
       "       [-9.12774658e+01, -1.47203565e+00, -1.15901200e-02,\n",
       "         0.00000000e+00]])"
      ]
     },
     "execution_count": 69,
     "metadata": {},
     "output_type": "execute_result"
    }
   ],
   "source": [
    "\n",
    "points = np.loadtxt('/Users/jinxuanchen/Files_Local/Point_image_fusion/kittidata/odometry/sequences/00/map_pcd_ds.txt')\n",
    "points"
   ]
  },
  {
   "cell_type": "code",
   "execution_count": 70,
   "metadata": {},
   "outputs": [
    {
     "data": {
      "text/plain": [
       "array([[ 8.15129693e+01,  6.15069711e+01, -6.22723389e+00,\n",
       "         3.91670000e-02],\n",
       "       [ 7.33373112e+01,  6.04836000e+01, -5.81851006e+00,\n",
       "         0.00000000e+00],\n",
       "       [ 2.06791801e+01,  3.46316585e+01, -6.30697584e+00,\n",
       "         0.00000000e+00],\n",
       "       ...,\n",
       "       [-4.44978115e+01, -7.93706219e+01,  3.76742300e-01,\n",
       "         0.00000000e+00],\n",
       "       [-4.41343392e+01, -7.94492824e+01,  3.90237540e-01,\n",
       "         0.00000000e+00],\n",
       "       [-4.49690860e+01, -7.94451003e+01, -1.15901200e-02,\n",
       "         0.00000000e+00]])"
      ]
     },
     "execution_count": 70,
     "metadata": {},
     "output_type": "execute_result"
    }
   ],
   "source": [
    "# points1 = points* R1\n",
    "points1 = np.dot(points,R1)\n",
    "points1"
   ]
  },
  {
   "cell_type": "code",
   "execution_count": 71,
   "metadata": {},
   "outputs": [],
   "source": [
    "np.savetxt('/Users/jinxuanchen/Files_Local/Point_image_fusion/kittidata/odometry/sequences/00/map_pcd_ds_r.txt',points1,fmt='%.08f')"
   ]
  },
  {
   "cell_type": "code",
   "execution_count": 23,
   "metadata": {},
   "outputs": [
    {
     "data": {
      "text/plain": [
       "PointCloud with 94 points."
      ]
     },
     "execution_count": 23,
     "metadata": {},
     "output_type": "execute_result"
    }
   ],
   "source": [
    "pcd.rotate(R, center=(0, 0, 0))"
   ]
  },
  {
   "cell_type": "code",
   "execution_count": 24,
   "metadata": {},
   "outputs": [
    {
     "data": {
      "text/plain": [
       "True"
      ]
     },
     "execution_count": 24,
     "metadata": {},
     "output_type": "execute_result"
    }
   ],
   "source": [
    "o3d.io.write_point_cloud(\"/Users/jinxuanchen/Files_Local/Point_image_fusion/kittidata/odometry/sequences/00/map_pcd_ds_r_1.pcd\", pcd)"
   ]
  }
 ],
 "metadata": {
  "kernelspec": {
   "display_name": "pi",
   "language": "python",
   "name": "python3"
  },
  "language_info": {
   "codemirror_mode": {
    "name": "ipython",
    "version": 3
   },
   "file_extension": ".py",
   "mimetype": "text/x-python",
   "name": "python",
   "nbconvert_exporter": "python",
   "pygments_lexer": "ipython3",
   "version": "3.8.13"
  },
  "orig_nbformat": 4
 },
 "nbformat": 4,
 "nbformat_minor": 2
}
